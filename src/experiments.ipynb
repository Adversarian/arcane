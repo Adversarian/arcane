{
 "cells": [
  {
   "attachments": {},
   "cell_type": "markdown",
   "metadata": {},
   "source": [
    "# REMEMBER:\n",
    "- ALL MODELS -> EVAL MODE!!!!"
   ]
  },
  {
   "cell_type": "code",
   "execution_count": 1,
   "metadata": {},
   "outputs": [],
   "source": [
    "%load_ext autoreload\n",
    "%autoreload 2"
   ]
  },
  {
   "cell_type": "code",
   "execution_count": 2,
   "metadata": {},
   "outputs": [],
   "source": [
    "import os\n",
    "import sys  # TODO: Fix this?\n",
    "\n",
    "sys.path.append(\"PyTorch-StudioGAN/\")\n",
    "import itertools\n",
    "import random\n",
    "\n",
    "import torch\n",
    "import torchvision.transforms.functional as TF\n",
    "from Attacks.attacks_suite import *\n",
    "from Classifiers.resnet import load_model as load_victim_model\n",
    "from Defense.def_utils import *\n",
    "from functools import partial\n",
    "\n",
    "import matplotlib.pyplot as plt\n",
    "\n",
    "import numpy as np\n",
    "\n",
    "from gan_loader import load_model as load_gan_model\n",
    "from LGDPM.diffusion_loader import load_model as load_diffusion_model\n",
    "from pytorch_histogram_matching import Histogram_Matching\n",
    "from torchmetrics.functional.classification import binary_auroc, multiclass_accuracy\n",
    "from torchvision import datasets, transforms as T\n",
    "from torchvision.utils import make_grid, save_image\n",
    "from tqdm import tqdm\n",
    "\n",
    "assert torch.cuda.is_available()\n"
   ]
  },
  {
   "cell_type": "code",
   "execution_count": 3,
   "metadata": {},
   "outputs": [],
   "source": [
    "seed = 1\n",
    "torch.backends.cudnn.enabled = True\n",
    "torch.backends.cudnn.deterministic = True\n",
    "\n",
    "random.seed(seed);\n",
    "np.random.seed(seed);\n",
    "torch.cuda.manual_seed(seed);\n",
    "torch.manual_seed(seed);\n"
   ]
  },
  {
   "cell_type": "markdown",
   "metadata": {},
   "source": [
    "# Load all victims"
   ]
  },
  {
   "cell_type": "code",
   "execution_count": 4,
   "metadata": {},
   "outputs": [],
   "source": [
    "V_WEIGHTS = {\n",
    "    \"MNIST\": \"saved_models/victims/mnist_resnet18.pth\",\n",
    "    \"CIFAR10\": \"saved_models/victims/cifar10_resnet18.pth\",\n",
    "    \"TIMGNET\": \"saved_models/victims/timgnet_resnet18.pth\",\n",
    "}\n",
    "cifar10_victim = load_victim_model(V_WEIGHTS[\"CIFAR10\"], num_classes=10, in_channels=3)\n",
    "timgnet_victim = load_victim_model(V_WEIGHTS[\"TIMGNET\"], num_classes=200, in_channels=3)\n",
    "cifar10_victim.eval()\n",
    "timgnet_victim.eval()\n",
    "VICTIM_MODELS = {\n",
    "    \"CIFAR10\": cifar10_victim,\n",
    "    \"TIMGNET\": timgnet_victim,\n",
    "}\n"
   ]
  },
  {
   "cell_type": "markdown",
   "metadata": {},
   "source": [
    "# Load defenders one at a time for testing"
   ]
  },
  {
   "cell_type": "code",
   "execution_count": 5,
   "metadata": {},
   "outputs": [],
   "source": [
    "D_WEIGHTS = {\n",
    "    \"MNIST_DIFF\": \"saved_models/defenders/diffusion/mnist_diff.pth\",\n",
    "    \"CIFAR10_DIFF\": \"saved_models/defenders/diffusion/cifar10_diff.pth\",\n",
    "    \"TIMGNET_DIFF\": \"saved_models/defenders/diffusion/timgnet_diff.pth\",\n",
    "    \"MNIST_ADCGAN\": (\n",
    "        \"saved_models/defenders/acgan/mnist/G_mnist_adcgan.pth\",\n",
    "        \"saved_models/defenders/acgan/mnist/D_mnist_adcgan.pth\",\n",
    "    ),\n",
    "    \"MNIST_REACGAN\": (\n",
    "        \"saved_models/defenders/acgan/mnist/G_mnist_reacgan.pth\",\n",
    "        \"saved_models/defenders/acgan/mnist/D_mnist_reacgan.pth\",\n",
    "    ),\n",
    "    \"MNIST_READCGAN\": (\n",
    "        \"saved_models/defenders/acgan/mnist/G_mnist_readcgan.pth\",\n",
    "        \"saved_models/defenders/acgan/mnist/D_mnist_readcgan.pth\",\n",
    "    ),\n",
    "    \"CIFAR10_ADCGAN\": (\n",
    "        \"saved_models/defenders/acgan/cifar10/G_cifar10_adcgan.pth\",\n",
    "        \"saved_models/defenders/acgan/cifar10/D_cifar10_adcgan.pth\",\n",
    "    ),\n",
    "    \"CIFAR10_REACGAN\": (\n",
    "        \"saved_models/defenders/acgan/cifar10/G_cifar10_reacgan.pth\",\n",
    "        \"saved_models/defenders/acgan/cifar10/D_cifar10_reacgan.pth\",\n",
    "    ),\n",
    "    \"CIFAR10_READCGAN\": (\n",
    "        \"saved_models/defenders/acgan/cifar10/G_cifar10_readcgan.pth\",\n",
    "        \"saved_models/defenders/acgan/cifar10/D_cifar10_readcgan.pth\",\n",
    "    ),\n",
    "    \"TIMGNET_ADCGAN\": (\n",
    "        \"saved_models/defenders/acgan/timgnet/G_timgnet_adcgan.pth\",\n",
    "        \"saved_models/defenders/acgan/timgnet/D_timgnet_adcgan.pth\",\n",
    "    ),\n",
    "    \"TIMGNET_REACGAN\": (\n",
    "        \"saved_models/defenders/acgan/timgnet/G_timgnet_reacgan.pth\",\n",
    "        \"saved_models/defenders/acgan/timgnet/D_timgnet_reacgan.pth\",\n",
    "    ),\n",
    "    \"TIMGNET_READCGAN\": (\n",
    "        \"saved_models/defenders/acgan/timgnet/G_timgnet_readcgan.pth\",\n",
    "        \"saved_models/defenders/acgan/timgnet/D_timgnet_readcgan.pth\",\n",
    "    ),\n",
    "}"
   ]
  },
  {
   "cell_type": "markdown",
   "metadata": {},
   "source": [
    "# Attack and Samples Preparation"
   ]
  },
  {
   "cell_type": "code",
   "execution_count": 6,
   "metadata": {},
   "outputs": [],
   "source": [
    "def generate_sample_baskets(n_samples=200):\n",
    "    all_datasets = {\n",
    "        \"CIFAR10\": datasets.CIFAR10(\n",
    "            root=\"PyTorch-StudioGAN/data/\",\n",
    "            train=False,\n",
    "            transform=T.Compose(\n",
    "                [\n",
    "                    T.ToTensor(),\n",
    "                    T.Normalize(\n",
    "                        DEFAULT_MOMENTS.CIFAR10.mean, DEFAULT_MOMENTS.CIFAR10.std\n",
    "                    ),\n",
    "                ]\n",
    "            ),\n",
    "        ),\n",
    "        \"TIMGNET\": datasets.ImageFolder(\n",
    "            root=\"PyTorch-StudioGAN/data/tiny-imagenet-200/val/\",\n",
    "            transform=T.Compose(\n",
    "                [\n",
    "                    T.ToTensor(),\n",
    "                    T.Normalize(\n",
    "                        DEFAULT_MOMENTS.TIMGNET.mean, DEFAULT_MOMENTS.TIMGNET.std\n",
    "                    ),\n",
    "                ]\n",
    "            ),\n",
    "        ),\n",
    "    }\n",
    "    samples = {}\n",
    "    for name, ds in all_datasets.items():\n",
    "        targets = torch.tensor(ds.targets)\n",
    "        all_classes = torch.unique(targets)\n",
    "        assert (\n",
    "            n_samples % len(all_classes) == 0\n",
    "        ), f\"Cannot sample equally with the provided n_samples={n_samples} and n_targets={len(all_classes)}\"\n",
    "        n_samples_per_class = n_samples // len(all_classes)\n",
    "        balanced_sample_indices = []\n",
    "        for cls in all_classes:\n",
    "            only_cls = torch.where(targets == cls)[0].tolist()\n",
    "            balanced_sample_indices.extend(\n",
    "                random.sample(only_cls, n_samples_per_class)\n",
    "            )\n",
    "        samples.update({name: [ds[idx] for idx in balanced_sample_indices]})\n",
    "    return samples\n"
   ]
  },
  {
   "cell_type": "code",
   "execution_count": 7,
   "metadata": {},
   "outputs": [],
   "source": [
    "def generate_attacks(victim, ds_name, real_sample_baskets, targeted=False, **kwargs):\n",
    "    images, labels = zip(*real_sample_baskets[ds_name])\n",
    "    images, labels = torch.stack(images).to(\"cuda\"), torch.tensor(list(labels)).to(\n",
    "        \"cuda\", dtype=torch.long\n",
    "    )\n",
    "    if isinstance(targeted, bool):\n",
    "        suite = partial(run_attack_suite, targets=\"auto\" if targeted else None)\n",
    "    elif isinstance(targeted, torch.Tensor):\n",
    "        suite = partial(run_attack_suite, targets=targeted)\n",
    "    attacks = suite(victim, ds_name, images, labels, **kwargs)\n",
    "    torch.cuda.empty_cache()\n",
    "    return attacks\n"
   ]
  },
  {
   "cell_type": "code",
   "execution_count": 8,
   "metadata": {},
   "outputs": [],
   "source": [
    "### GENERATE ATTACKS TO BE USED GLOBALLY\n",
    "if os.path.exists(\"real_sample_baskets.pth\"):\n",
    "    real_sample_baskets = torch.load(\"real_sample_baskets.pth\")\n",
    "else:\n",
    "    real_sample_baskets = generate_sample_baskets(n_samples=1000)\n",
    "    torch.save(real_sample_baskets, \"real_sample_baskets.pth\")\n",
    "if os.path.exists(\"ADV_ATTACKS.pth\"):\n",
    "    ADV_ATTACKS = torch.load(\"ADV_ATTACKS.pth\")\n",
    "else:\n",
    "    ADV_ATTACKS = {\n",
    "        \"CIFAR10\": generate_attacks(\n",
    "            cifar10_victim, \"CIFAR10\", real_sample_baskets, targeted=True,\n",
    "        ),\n",
    "        \"TIMGNET\": generate_attacks(\n",
    "            timgnet_victim, \"TIMGNET\", real_sample_baskets, targeted=True,\n",
    "        ),\n",
    "    }\n",
    "    torch.save(ADV_ATTACKS, \"ADV_ATTACKS.pth\")\n"
   ]
  },
  {
   "cell_type": "markdown",
   "metadata": {},
   "source": [
    "# Final Run\n",
    "- Default configs.\n",
    "- Load XGB models.\n",
    "- Seek & Destroy! (Detect + Purify)"
   ]
  },
  {
   "cell_type": "code",
   "execution_count": 9,
   "metadata": {},
   "outputs": [],
   "source": [
    "DEFENDER_DEFAULT_CONFIGS = {\n",
    "    \"DIFF\": {\n",
    "        \"CIFAR10\": \"CIFAR10_DIFF\",\n",
    "        \"TIMGNET\": \"TIMGNET_DIFF\",\n",
    "        \"aux_d_type_for_diff\": \"REACGAN\",\n",
    "    },\n",
    "    \"ACGAN\":{\n",
    "        \"CIFAR10\": \"CIFAR10_REACGAN\",\n",
    "        \"TIMGNET\": \"TIMGNET_REACGAN\",\n",
    "    }\n",
    "}\n",
    "BASE_PATH = \"DHT_models/\""
   ]
  },
  {
   "cell_type": "code",
   "execution_count": 10,
   "metadata": {},
   "outputs": [],
   "source": [
    "os.makedirs(\"final_results\", exist_ok=True)"
   ]
  },
  {
   "cell_type": "markdown",
   "metadata": {},
   "source": [
    "## Diffusion"
   ]
  },
  {
   "cell_type": "code",
   "execution_count": 11,
   "metadata": {},
   "outputs": [
    {
     "name": "stderr",
     "output_type": "stream",
     "text": [
      "Diffusion Purify Untargeted: Calculating Losses: 100%|██████████| 200/200 [10:37<00:00,  3.19s/it]\n"
     ]
    },
    {
     "name": "stdout",
     "output_type": "stream",
     "text": [
      "DIFF - CIFAR10 - CW: pAUC@0.2=0.9998611807823181, acc=0.9650000047683716\n"
     ]
    },
    {
     "name": "stderr",
     "output_type": "stream",
     "text": [
      "Diffusion Purify Untargeted: Calculating Losses: 100%|██████████| 200/200 [10:39<00:00,  3.20s/it]\n"
     ]
    },
    {
     "name": "stdout",
     "output_type": "stream",
     "text": [
      "DIFF - CIFAR10 - FGSM: pAUC@0.2=0.9626041650772095, acc=0.8474999928474426\n"
     ]
    },
    {
     "name": "stderr",
     "output_type": "stream",
     "text": [
      "Diffusion Purify Untargeted: Calculating Losses: 100%|██████████| 200/200 [10:38<00:00,  3.19s/it]\n"
     ]
    },
    {
     "name": "stdout",
     "output_type": "stream",
     "text": [
      "DIFF - CIFAR10 - PGD: pAUC@0.2=0.99979168176651, acc=0.9624999690055847\n"
     ]
    },
    {
     "name": "stderr",
     "output_type": "stream",
     "text": [
      "Diffusion Purify Untargeted: Calculating Losses: 100%|██████████| 200/200 [3:23:09<00:00, 60.95s/it]  \n"
     ]
    },
    {
     "name": "stdout",
     "output_type": "stream",
     "text": [
      "DIFF - TIMGNET - CW: pAUC@0.2=0.9755555391311646, acc=0.952999642372131\n"
     ]
    },
    {
     "name": "stderr",
     "output_type": "stream",
     "text": [
      "Diffusion Purify Untargeted: Calculating Losses: 100%|██████████| 200/200 [3:22:41<00:00, 60.81s/it]  \n"
     ]
    },
    {
     "name": "stdout",
     "output_type": "stream",
     "text": [
      "DIFF - TIMGNET - FGSM: pAUC@0.2=0.9960764050483704, acc=0.842300000003194\n"
     ]
    },
    {
     "name": "stderr",
     "output_type": "stream",
     "text": [
      "Diffusion Purify Untargeted: Calculating Losses: 100%|██████████| 200/200 [3:25:59<00:00, 61.80s/it]  "
     ]
    },
    {
     "name": "stdout",
     "output_type": "stream",
     "text": [
      "DIFF - TIMGNET - PGD: pAUC@0.2=0.9885416030883789, acc=0.8700000095367432\n"
     ]
    },
    {
     "name": "stderr",
     "output_type": "stream",
     "text": [
      "\n"
     ]
    }
   ],
   "source": [
    "NUM_SPLITS = 10\n",
    "targeted_purify_kwargs = {}\n",
    "max_fpr = 0.2\n",
    "diff_results = {}\n",
    "save_dir=\"final_results\"\n",
    "for dataset_name in [\"CIFAR10\", \"TIMGNET\"]:\n",
    "    for attack_method in [\"CW\", \"FGSM\", \"PGD\"]:\n",
    "        victim = VICTIM_MODELS[dataset_name]\n",
    "        defender = DEFENDER_DEFAULT_CONFIGS[\"DIFF\"][dataset_name]\n",
    "        aux_d_name = (\n",
    "            dataset_name + \"_\" + DEFENDER_DEFAULT_CONFIGS[\"DIFF\"][\"aux_d_type_for_diff\"]\n",
    "        )\n",
    "        _, defender_diff_ema = load_diffusion_model(D_WEIGHTS[defender], defender)\n",
    "        _, defender_D, _ = load_gan_model(\n",
    "            D_WEIGHTS[aux_d_name][0], D_WEIGHTS[aux_d_name][1], aux_d_name\n",
    "        )\n",
    "        defender_D.eval()\n",
    "        defender_diff_ema.eval()\n",
    "        clean_images, clean_true_labels = zip(*real_sample_baskets[dataset_name])\n",
    "        clean_images, clean_true_labels = torch.stack(clean_images).to(\n",
    "            \"cuda\"\n",
    "        ), torch.tensor(list(clean_true_labels)).to(\"cuda\")\n",
    "        adv_denorm_images, adv_norm_images, adv_true_labels = (\n",
    "            ADV_ATTACKS[dataset_name][attack_method][\"unnormalized_clipped_samples\"],\n",
    "            ADV_ATTACKS[dataset_name][attack_method][\"normalized_clipped_samples\"],\n",
    "            ADV_ATTACKS[dataset_name][\"clean_labels\"],\n",
    "        )\n",
    "        inverse_normalizer = NormalizeInverse(\n",
    "            mean=DEFAULT_MOMENTS[dataset_name][\"mean\"],\n",
    "            std=DEFAULT_MOMENTS[dataset_name][\"std\"],\n",
    "        )\n",
    "        victim_adv_labels = victim(adv_norm_images).detach().argmax(1)\n",
    "        victim_clean_labels = victim(clean_images).detach().argmax(1)\n",
    "        saved_model_path = os.path.join(\n",
    "            BASE_PATH, \"DIFF\", f\"DIFF_{dataset_name}_{attack_method}_XGB.json\"\n",
    "        )\n",
    "        saved_params_path = os.path.join(\n",
    "            BASE_PATH, \"DIFF\", f\"DIFF_{dataset_name}_{attack_method}_best_params.json\"\n",
    "        )\n",
    "        ### DEFEND\n",
    "        # 1. DETECTION\n",
    "        detection_results = torch.from_numpy(\n",
    "            diffusion_detect_v2(\n",
    "                defender_diff_ema,\n",
    "                defender_D,\n",
    "                victim,\n",
    "                clean_images,\n",
    "                adv_norm_images,\n",
    "                inverse_normalizer,\n",
    "                saved_model_path,\n",
    "                saved_params_path,\n",
    "                splits=NUM_SPLITS,\n",
    "                **targeted_purify_kwargs,\n",
    "            )\n",
    "        )\n",
    "        torch.cuda.empty_cache()\n",
    "        # 2. PURIFICATION\n",
    "        true_positive_idxs = torch.where(\n",
    "            detection_results[len(detection_results) // 2 :]\n",
    "        )[0]\n",
    "        purification_losses, purification_outputs = diffusion_purify_untargeted(\n",
    "            defender_diff_ema, adv_denorm_images, NUM_CLASSES[dataset_name]\n",
    "        )\n",
    "        cleaned_labels = (\n",
    "            victim(\n",
    "                TF.normalize(\n",
    "                    torch.stack(purification_outputs),\n",
    "                    mean=DEFAULT_MOMENTS[dataset_name].mean,\n",
    "                    std=DEFAULT_MOMENTS[dataset_name].std,\n",
    "                )\n",
    "            )\n",
    "            .detach()\n",
    "            .argmax(1)\n",
    "        )\n",
    "        # METRICS\n",
    "        # 1. DETECTION METRICS\n",
    "        detection_targets = torch.cat(\n",
    "            [\n",
    "                torch.zeros(len(detection_results) // 2),\n",
    "                torch.ones(len(detection_results) // 2),\n",
    "            ]\n",
    "        ).long()\n",
    "        detection_p_auc = binary_auroc(\n",
    "            detection_results, detection_targets, max_fpr=max_fpr\n",
    "        )\n",
    "        # 2. PURIFICATION METRICS\n",
    "        true_label_matches = cleaned_labels == adv_true_labels[true_positive_idxs]\n",
    "        same_as_victim_label_matches = (\n",
    "            cleaned_labels == victim_clean_labels[true_positive_idxs]\n",
    "        )\n",
    "        relaxed_label_matches = torch.logical_or(\n",
    "            true_label_matches, same_as_victim_label_matches\n",
    "        )\n",
    "        relaxed_purification_acc = relaxed_label_matches.float().mean()\n",
    "        # 3. COMPILE, PRINT, SAVE\n",
    "        diff_results[dataset_name] = {\n",
    "            \"standardized_p_auc\": detection_p_auc,\n",
    "            \"purification_acc\": relaxed_purification_acc,\n",
    "        }\n",
    "        print(\n",
    "            f\"DIFF - {dataset_name} - {attack_method}: pAUC@{max_fpr}={detection_p_auc}, acc={relaxed_purification_acc}\"\n",
    "        )\n",
    "        torch.cuda.empty_cache()\n",
    "torch.save(diff_results, os.path.join(save_dir, \"DIFF_default_defender_results.pth\"))\n"
   ]
  },
  {
   "cell_type": "markdown",
   "metadata": {},
   "source": [
    "## ACGAN"
   ]
  },
  {
   "cell_type": "code",
   "execution_count": 12,
   "metadata": {},
   "outputs": [
    {
     "name": "stderr",
     "output_type": "stream",
     "text": [
      "ACGAN Purify Untargeted: Calculating Losses: 100%|██████████| 200/200 [24:19<00:00,  7.30s/it]\n"
     ]
    },
    {
     "name": "stdout",
     "output_type": "stream",
     "text": [
      "ACGAN - CIFAR10 - CW: pAUC@0.2=0.9998611211776733, acc=0.8749999898672104\n"
     ]
    },
    {
     "name": "stderr",
     "output_type": "stream",
     "text": [
      "ACGAN Purify Untargeted: Calculating Losses: 100%|██████████| 200/200 [24:21<00:00,  7.31s/it]\n"
     ]
    },
    {
     "name": "stdout",
     "output_type": "stream",
     "text": [
      "ACGAN - CIFAR10 - FGSM: pAUC@0.2=0.9628124237060547, acc=0.8349999952316284\n"
     ]
    },
    {
     "name": "stderr",
     "output_type": "stream",
     "text": [
      "ACGAN Purify Untargeted: Calculating Losses: 100%|██████████| 200/200 [24:46<00:00,  7.43s/it]\n"
     ]
    },
    {
     "name": "stdout",
     "output_type": "stream",
     "text": [
      "ACGAN - CIFAR10 - PGD: pAUC@0.2=0.99979168176651, acc=0.8549999898672104\n"
     ]
    },
    {
     "name": "stderr",
     "output_type": "stream",
     "text": [
      "ACGAN Purify Untargeted: Calculating Losses: 100%|██████████| 200/200 [6:58:22<00:00, 125.51s/it]  \n"
     ]
    },
    {
     "name": "stdout",
     "output_type": "stream",
     "text": [
      "ACGAN - TIMGNET - CW: pAUC@0.2=0.975902795791626, acc=0.86499999850988388\n"
     ]
    },
    {
     "name": "stderr",
     "output_type": "stream",
     "text": [
      "ACGAN Purify Untargeted: Calculating Losses: 100%|██████████| 200/200 [6:57:49<00:00, 125.35s/it]  \n"
     ]
    },
    {
     "name": "stdout",
     "output_type": "stream",
     "text": [
      "ACGAN - TIMGNET - FGSM: pAUC@0.2=0.996006965637207, acc=0.829999999552965164\n"
     ]
    },
    {
     "name": "stderr",
     "output_type": "stream",
     "text": [
      "ACGAN Purify Untargeted: Calculating Losses: 100%|██████████| 200/200 [6:57:54<00:00, 125.37s/it]  "
     ]
    },
    {
     "name": "stdout",
     "output_type": "stream",
     "text": [
      "ACGAN - TIMGNET - PGD: pAUC@0.2=0.9874305725097656, acc=0.84500000014901161\n"
     ]
    },
    {
     "name": "stderr",
     "output_type": "stream",
     "text": [
      "\n"
     ]
    }
   ],
   "source": [
    "NUM_SPLITS = 10\n",
    "targeted_purify_kwargs = {}\n",
    "max_fpr = 0.2\n",
    "acgan_results = {}\n",
    "save_dir=\"final_results\"\n",
    "for dataset_name in [\"CIFAR10\", \"TIMGNET\"]:\n",
    "    for attack_method in [\"CW\", \"FGSM\", \"PGD\"]:\n",
    "        victim = VICTIM_MODELS[dataset_name]\n",
    "        defender = DEFENDER_DEFAULT_CONFIGS[\"ACGAN\"][dataset_name]\n",
    "        defender_G, defender_D, z_dim = load_gan_model(\n",
    "            D_WEIGHTS[defender][0], D_WEIGHTS[defender][1], defender\n",
    "        )\n",
    "        defender_G.eval()\n",
    "        defender_D.eval()\n",
    "        clean_images, clean_true_labels = zip(*real_sample_baskets[dataset_name])\n",
    "        clean_images, clean_true_labels = torch.stack(clean_images).to(\n",
    "            \"cuda\"\n",
    "        ), torch.tensor(list(clean_true_labels)).to(\"cuda\")\n",
    "        adv_denorm_images, adv_norm_images, adv_true_labels = (\n",
    "            ADV_ATTACKS[dataset_name][attack_method][\"unnormalized_clipped_samples\"],\n",
    "            ADV_ATTACKS[dataset_name][attack_method][\"normalized_clipped_samples\"],\n",
    "            ADV_ATTACKS[dataset_name][\"clean_labels\"],\n",
    "        )\n",
    "        inverse_normalizer = NormalizeInverse(\n",
    "            mean=DEFAULT_MOMENTS[dataset_name][\"mean\"],\n",
    "            std=DEFAULT_MOMENTS[dataset_name][\"std\"],\n",
    "        )\n",
    "        victim_adv_labels = victim(adv_norm_images).detach().argmax(1)\n",
    "        victim_clean_labels = victim(clean_images).detach().argmax(1)\n",
    "        saved_model_path = os.path.join(\n",
    "            BASE_PATH, \"ACGAN\", f\"ACGAN_{dataset_name}_{attack_method}_XGB.json\"\n",
    "        )\n",
    "        saved_params_path = os.path.join(\n",
    "            BASE_PATH, \"ACGAN\", f\"ACGAN_{dataset_name}_{attack_method}_best_params.json\"\n",
    "        )\n",
    "        ### DEFEND\n",
    "        # 1. DETECTION\n",
    "        detection_results = torch.from_numpy(\n",
    "            acgan_detect_v2(\n",
    "                defender_G,\n",
    "                defender_D,\n",
    "                victim,\n",
    "                clean_images,\n",
    "                adv_norm_images,\n",
    "                inverse_normalizer,\n",
    "                z_dim,\n",
    "                saved_model_path,\n",
    "                saved_params_path,\n",
    "                splits=NUM_SPLITS,\n",
    "                **targeted_purify_kwargs,\n",
    "            )\n",
    "        )\n",
    "        torch.cuda.empty_cache()\n",
    "        # 2. PURIFICATION\n",
    "        true_positive_idxs = torch.where(\n",
    "            detection_results[len(detection_results) // 2 :]\n",
    "        )[0]\n",
    "        purification_losses, purification_outputs = acgan_purify_untargeted(\n",
    "            defender_G, adv_denorm_images, NUM_CLASSES[dataset_name], z_dim,\n",
    "        )\n",
    "        cleaned_labels = (\n",
    "            victim(\n",
    "                TF.normalize(\n",
    "                    torch.stack(purification_outputs),\n",
    "                    mean=DEFAULT_MOMENTS[dataset_name].mean,\n",
    "                    std=DEFAULT_MOMENTS[dataset_name].std,\n",
    "                )\n",
    "            )\n",
    "            .detach()\n",
    "            .argmax(1)\n",
    "        )\n",
    "        # METRICS\n",
    "        # 1. DETECTION METRICS\n",
    "        detection_targets = torch.cat(\n",
    "            [\n",
    "                torch.zeros(len(detection_results) // 2),\n",
    "                torch.ones(len(detection_results) // 2),\n",
    "            ]\n",
    "        ).long()\n",
    "        detection_p_auc = binary_auroc(\n",
    "            detection_results, detection_targets, max_fpr=max_fpr\n",
    "        )\n",
    "        # 2. PURIFICATION METRICS\n",
    "        true_label_matches = cleaned_labels == adv_true_labels[true_positive_idxs]\n",
    "        same_as_victim_label_matches = (\n",
    "            cleaned_labels == victim_clean_labels[true_positive_idxs]\n",
    "        )\n",
    "        relaxed_label_matches = torch.logical_or(\n",
    "            true_label_matches, same_as_victim_label_matches\n",
    "        )\n",
    "        relaxed_purification_acc = relaxed_label_matches.float().mean()\n",
    "        # 3. COMPILE, PRINT, SAVE\n",
    "        acgan_results[dataset_name] = {\n",
    "            \"standardized_p_auc\": detection_p_auc,\n",
    "            \"purification_acc\": relaxed_purification_acc,\n",
    "        }\n",
    "        print(\n",
    "            f\"ACGAN - {dataset_name} - {attack_method}: pAUC@{max_fpr}={detection_p_auc}, acc={relaxed_purification_acc}\"\n",
    "        )\n",
    "        torch.cuda.empty_cache()\n",
    "torch.save(acgan_results, os.path.join(save_dir, \"ACGAN_default_defender_results.pth\"))\n"
   ]
  },
  {
   "cell_type": "markdown",
   "metadata": {},
   "source": [
    "# Figures?"
   ]
  },
  {
   "cell_type": "code",
   "execution_count": 13,
   "metadata": {},
   "outputs": [],
   "source": [
    "def show(imgs):\n",
    "    if not isinstance(imgs, list):\n",
    "        imgs = [imgs]\n",
    "    fig, axs = plt.subplots(ncols=len(imgs), squeeze=False)\n",
    "    for i, img in enumerate(imgs):\n",
    "        img = img.detach()\n",
    "        img = TF.to_pil_image(img)\n",
    "        axs[0, i].imshow(np.asarray(img))\n",
    "        axs[0, i].set(xticklabels=[], yticklabels=[], xticks=[], yticks=[])"
   ]
  },
  {
   "cell_type": "code",
   "execution_count": 14,
   "metadata": {},
   "outputs": [],
   "source": [
    "TEST_METHOD = \"FGSM\"\n",
    "TEST_DATASET = \"CIFAR10\"\n",
    "INST_NUM = 140"
   ]
  },
  {
   "cell_type": "code",
   "execution_count": 15,
   "metadata": {},
   "outputs": [],
   "source": [
    "victim = VICTIM_MODELS[TEST_DATASET]\n",
    "clean_images, clean_true_labels = zip(*real_sample_baskets[TEST_DATASET])\n",
    "clean_images, clean_true_labels = torch.stack(clean_images).to(\"cuda\"), torch.tensor(\n",
    "    list(clean_true_labels)\n",
    ").to(\"cuda\")\n",
    "adv_denorm_images, adv_norm_images, adv_true_labels = (\n",
    "    ADV_ATTACKS[TEST_DATASET][TEST_METHOD][\"unnormalized_clipped_samples\"],\n",
    "    ADV_ATTACKS[TEST_DATASET][TEST_METHOD][\"normalized_clipped_samples\"],\n",
    "    ADV_ATTACKS[TEST_DATASET][\"clean_labels\"],\n",
    ")\n",
    "inverse_normalizer = NormalizeInverse(\n",
    "    mean=DEFAULT_MOMENTS[TEST_DATASET][\"mean\"],\n",
    "    std=DEFAULT_MOMENTS[TEST_DATASET][\"std\"],\n",
    ")\n",
    "instance_sample_clean, instance_label_clean = (\n",
    "    clean_images[INST_NUM],\n",
    "    clean_true_labels[INST_NUM],\n",
    ")  # NORMED\n",
    "instance_sample_adv_norm, instance_sample_adv_denorm, instance_label_adv_true = (\n",
    "    adv_norm_images[INST_NUM],\n",
    "    adv_denorm_images[INST_NUM],\n",
    "    adv_true_labels[INST_NUM],\n",
    ")\n",
    "instance_victim_label_adv = victim(adv_norm_images[INST_NUM].unsqueeze(0)).detach().argmax(1)\n",
    "instance_victim_label_clean = victim(clean_images[INST_NUM].unsqueeze(0)).detach().argmax(1)\n"
   ]
  },
  {
   "cell_type": "code",
   "execution_count": 16,
   "metadata": {},
   "outputs": [
    {
     "data": {
      "image/png": "[encoded data removed]",
      "text/plain": [
       "<Figure size 432x288 with 1 Axes>"
      ]
     },
     "metadata": {},
     "output_type": "display_data"
    }
   ],
   "source": [
    "grid = make_grid([inverse_normalizer(instance_sample_clean), instance_sample_adv_denorm])\n",
    "show(grid)"
   ]
  },
  {
   "cell_type": "code",
   "execution_count": 17,
   "metadata": {},
   "outputs": [
    {
     "name": "stdout",
     "output_type": "stream",
     "text": [
      "Clean True Label: 7, Clean Detected Label: 7, Adversarial Detected Label: 6\n"
     ]
    }
   ],
   "source": [
    "print(\n",
    "    f\"Clean True Label: {instance_label_clean.item()}, Clean Detected Label: {instance_victim_label_clean.item()}, Adversarial Detected Label: {instance_victim_label_adv.item()}\"\n",
    ")\n"
   ]
  },
  {
   "cell_type": "markdown",
   "metadata": {},
   "source": [
    "## DIFFUSION TEST"
   ]
  },
  {
   "cell_type": "code",
   "execution_count": 18,
   "metadata": {},
   "outputs": [],
   "source": [
    "defender = DEFENDER_DEFAULT_CONFIGS[\"DIFF\"][TEST_DATASET]\n",
    "aux_d_name = (\n",
    "    TEST_DATASET + \"_\" + DEFENDER_DEFAULT_CONFIGS[\"DIFF\"][\"aux_d_type_for_diff\"]\n",
    ")\n",
    "defender_diff, defender_diff_ema = load_diffusion_model(D_WEIGHTS[defender], defender)\n",
    "_, defender_D, _ = load_gan_model(\n",
    "    D_WEIGHTS[aux_d_name][0], D_WEIGHTS[aux_d_name][1], aux_d_name\n",
    ")\n",
    "defender_D.eval()\n",
    "defender_diff.eval()\n",
    "defender_diff_ema.eval();"
   ]
  },
  {
   "cell_type": "code",
   "execution_count": 19,
   "metadata": {},
   "outputs": [
    {
     "name": "stderr",
     "output_type": "stream",
     "text": [
      "Diffusion Purify Untargeted: Calculating Losses: 100%|██████████| 1/1 [00:02<00:00,  2.38s/it]\n"
     ]
    }
   ],
   "source": [
    "losses, purified = diffusion_purify_untargeted(\n",
    "    defender_diff_ema,\n",
    "    instance_sample_adv_denorm.unsqueeze(0),\n",
    "    NUM_CLASSES[TEST_DATASET],\n",
    "    noise_steps=75,\n",
    "    cond_scale=0.5\n",
    ")\n"
   ]
  },
  {
   "cell_type": "code",
   "execution_count": 20,
   "metadata": {},
   "outputs": [
    {
     "data": {
      "text/plain": [
       "[0.004534577019512653]"
      ]
     },
     "execution_count": 20,
     "metadata": {},
     "output_type": "execute_result"
    }
   ],
   "source": [
    "losses"
   ]
  },
  {
   "cell_type": "code",
   "execution_count": 21,
   "metadata": {},
   "outputs": [
    {
     "data": {
      "image/png": "[encoded data removed]",
      "text/plain": [
       "<Figure size 432x288 with 1 Axes>"
      ]
     },
     "metadata": {},
     "output_type": "display_data"
    }
   ],
   "source": [
    "grid = make_grid(\n",
    "    [inverse_normalizer(instance_sample_clean), instance_sample_adv_denorm, purified[0]]\n",
    ")\n",
    "show(grid)\n"
   ]
  },
  {
   "cell_type": "code",
   "execution_count": 22,
   "metadata": {},
   "outputs": [
    {
     "data": {
      "text/plain": [
       "tensor([7], device='cuda:0')"
      ]
     },
     "execution_count": 22,
     "metadata": {},
     "output_type": "execute_result"
    }
   ],
   "source": [
    "victim(\n",
    "    TF.normalize(\n",
    "        purified[0].unsqueeze(0),\n",
    "        mean=DEFAULT_MOMENTS[TEST_DATASET].mean,\n",
    "        std=DEFAULT_MOMENTS[TEST_DATASET].std,\n",
    "    )\n",
    ").detach().argmax(1)\n"
   ]
  },
  {
   "cell_type": "markdown",
   "metadata": {},
   "source": [
    "## ACGAN TEST"
   ]
  },
  {
   "cell_type": "code",
   "execution_count": 23,
   "metadata": {},
   "outputs": [],
   "source": [
    "defender = DEFENDER_DEFAULT_CONFIGS[\"ACGAN\"][TEST_DATASET]\n",
    "defender_G, defender_D, z_dim = load_gan_model(\n",
    "    D_WEIGHTS[defender][0], D_WEIGHTS[defender][1], defender\n",
    ")\n",
    "defender_G.eval()\n",
    "defender_D.eval();"
   ]
  },
  {
   "cell_type": "code",
   "execution_count": 24,
   "metadata": {},
   "outputs": [
    {
     "name": "stderr",
     "output_type": "stream",
     "text": [
      "ACGAN Purify Untargeted: Calculating Losses:   0%|          | 0/1 [00:00<?, ?it/s]"
     ]
    },
    {
     "name": "stderr",
     "output_type": "stream",
     "text": [
      "ACGAN Purify Untargeted: Calculating Losses: 100%|██████████| 1/1 [00:02<00:00,  2.65s/it]\n"
     ]
    }
   ],
   "source": [
    "losses, purified = acgan_purify_untargeted(\n",
    "    defender_G,\n",
    "    instance_sample_adv_denorm.unsqueeze(0),\n",
    "    NUM_CLASSES[TEST_DATASET],\n",
    "    z_dim,\n",
    "    optimization_steps=100,\n",
    "    optimizer_name=\"Adam\",\n",
    "    lr=0.1\n",
    ")"
   ]
  },
  {
   "cell_type": "code",
   "execution_count": 25,
   "metadata": {},
   "outputs": [
    {
     "data": {
      "text/plain": [
       "[0.07628639787435532]"
      ]
     },
     "execution_count": 25,
     "metadata": {},
     "output_type": "execute_result"
    }
   ],
   "source": [
    "losses"
   ]
  },
  {
   "cell_type": "code",
   "execution_count": 26,
   "metadata": {},
   "outputs": [
    {
     "data": {
      "image/png": "[encoded data removed]",
      "text/plain": [
       "<Figure size 432x288 with 1 Axes>"
      ]
     },
     "metadata": {},
     "output_type": "display_data"
    }
   ],
   "source": [
    "grid = make_grid(\n",
    "    [inverse_normalizer(instance_sample_clean), instance_sample_adv_denorm, purified[0]]\n",
    ")\n",
    "show(grid)"
   ]
  },
  {
   "cell_type": "code",
   "execution_count": 27,
   "metadata": {},
   "outputs": [
    {
     "data": {
      "text/plain": [
       "tensor([7], device='cuda:0')"
      ]
     },
     "execution_count": 27,
     "metadata": {},
     "output_type": "execute_result"
    }
   ],
   "source": [
    "victim(\n",
    "    TF.normalize(\n",
    "        purified[0].unsqueeze(0),\n",
    "        mean=DEFAULT_MOMENTS[TEST_DATASET].mean,\n",
    "        std=DEFAULT_MOMENTS[TEST_DATASET].std,\n",
    "    )\n",
    ").detach().argmax(1)"
   ]
  }
 ],
 "metadata": {
  "kernelspec": {
   "display_name": "Python 3",
   "language": "python",
   "name": "python3"
  },
  "language_info": {
   "codemirror_mode": {
    "name": "ipython",
    "version": 3
   },
   "file_extension": ".py",
   "mimetype": "text/x-python",
   "name": "python",
   "nbconvert_exporter": "python",
   "pygments_lexer": "ipython3",
   "version": "3.11.4"
  },
  "orig_nbformat": 4
 },
 "nbformat": 4,
 "nbformat_minor": 2
}
